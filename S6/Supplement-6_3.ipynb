{
 "cells": [
  {
   "attachments": {},
   "cell_type": "markdown",
   "metadata": {},
   "source": [
    "## Supplement 6: Decision Trees and Random Forest"
   ]
  },
  {
   "cell_type": "code",
   "execution_count": 24,
   "metadata": {
    "ExecuteTime": {
     "end_time": "2024-01-28T17:40:29.074884706Z",
     "start_time": "2024-01-28T17:40:29.058105902Z"
    }
   },
   "outputs": [],
   "source": [
    "%matplotlib inline\n",
    "import numpy as np\n",
    "import pandas as pd\n",
    "\n",
    "from sklearn.ensemble import RandomForestClassifier\n",
    "from sklearn.tree import DecisionTreeClassifier\n",
    "from sklearn import tree\n",
    "from scipy.stats import mode\n"
   ]
  },
  {
   "attachments": {},
   "cell_type": "markdown",
   "metadata": {},
   "source": [
    "### 6.3 Programming Task: Song popularity prediction using Random Forest\n",
    "The goal of this task is to train a random forest model that predicts the song popularity using the datasets already provided in task 4.3\n",
    " "
   ]
  },
  {
   "cell_type": "code",
   "execution_count": 25,
   "metadata": {
    "ExecuteTime": {
     "end_time": "2024-01-28T17:40:29.139147217Z",
     "start_time": "2024-01-28T17:40:29.073959905Z"
    }
   },
   "outputs": [
    {
     "name": "stdout",
     "output_type": "stream",
     "text": [
      "(20000, 8) (20000,) (2000, 8) (2000,)\n"
     ]
    }
   ],
   "source": [
    "# Read data\n",
    "train_data = pd.read_csv('train-songs.csv')\n",
    "test_data = pd.read_csv('test-songs.csv')\n",
    "\n",
    "train_X = train_data.drop(['popular'], axis=1)\n",
    "train_y = train_data['popular']\n",
    "test_X = test_data.drop(['popular'], axis=1)\n",
    "test_y = test_data['popular']\n",
    "\n",
    "print(train_X.shape, train_y.shape, test_X.shape, test_y.shape)"
   ]
  },
  {
   "attachments": {},
   "cell_type": "markdown",
   "metadata": {},
   "source": [
    "   i\\. Implement a function that draws a bootstrap sample of size N from the train dataset, where N can be specified by the user.\n",
    "\n",
    "\n"
   ]
  },
  {
   "cell_type": "code",
   "execution_count": 26,
   "metadata": {
    "ExecuteTime": {
     "end_time": "2024-01-28T17:40:29.139464197Z",
     "start_time": "2024-01-28T17:40:29.124539252Z"
    }
   },
   "outputs": [],
   "source": [
    "def generate_bootstrap(train_X,train_y,N):\n",
    "   idx = np.random.choice(train_X.shape[0], N, replace=True) \n",
    "   return train_X.iloc[idx], train_y.iloc[idx]\n"
   ]
  },
  {
   "attachments": {},
   "cell_type": "markdown",
   "metadata": {},
   "source": [
    "   ii\\. Complete the implementation of the random forest algorithm. For this task you may use the DecisionTreeClassifier from the scikit-learn library. The other parts of the random forest algorithm must be implemented using only Scipy/Numpy."
   ]
  },
  {
   "cell_type": "code",
   "execution_count": 27,
   "metadata": {
    "ExecuteTime": {
     "end_time": "2024-01-28T17:40:29.139690242Z",
     "start_time": "2024-01-28T17:40:29.124757382Z"
    }
   },
   "outputs": [],
   "source": [
    "class RandomForest:\n",
    "   def __init__(self,n_trees,max_features,max_samples,min_node_size, max_depth):\n",
    "      #TODO Initialize list containing weak classifiers. Also initialize any other parameter if required.\n",
    "      self.n_trees = n_trees\n",
    "      self.max_features = max_features\n",
    "      self.max_samples = max_samples\n",
    "      self.min_node_size = min_node_size\n",
    "      self.max_depth = max_depth\n",
    "      self.trees = []\n",
    "\n",
    "\n",
    "   def train(self,train_X,train_y):\n",
    "      #TODO Training each weak classifier\n",
    "      for m in range(self.n_trees):\n",
    "         X, y = generate_bootstrap(train_X,train_y,self.max_samples)\n",
    "         tree = DecisionTreeClassifier(max_features=self.max_features,min_samples_leaf=self.min_node_size,max_depth=self.max_depth)\n",
    "         tree.fit(X,y)\n",
    "         self.trees.append(tree)\n",
    "\n",
    "   \n",
    "   def predict(self,test_X):\n",
    "      #TODO Final predictions are obtained by taking majority-vote (most frequent class) from each weak classifier prediction\n",
    "      y_predictions = []\n",
    "      for tree in self.trees:\n",
    "         y_predictions.append(tree.predict(test_X))\n",
    "      y_predictions = np.array(y_predictions)\n",
    "      y_predictions = mode(y_predictions)[0]\n",
    "\n",
    "      return y_predictions"
   ]
  },
  {
   "attachments": {},
   "cell_type": "markdown",
   "metadata": {},
   "source": [
    "iii\\. Train the model for the dataset from train-songs.csv using the parameters given below.\n",
    "| Parameter| Value|\n",
    "|----------|------|\n",
    "Number of trees|100|\n",
    "Maximum features per tree|2|\n",
    "Bootstrap sample size|20000|\n",
    "Minimum node size|1|\n",
    "Maximum tree depth|10|\n",
    "\n",
    "\n",
    "Note: The bootstrap sample size is the same as train dataset size in this task.\n"
   ]
  },
  {
   "cell_type": "code",
   "execution_count": 28,
   "metadata": {
    "ExecuteTime": {
     "end_time": "2024-01-28T17:40:31.504753977Z",
     "start_time": "2024-01-28T17:40:29.124867264Z"
    }
   },
   "outputs": [],
   "source": [
    "# Note: Run this cell without any changes. The model will train if the implementation of subtask (ii) is correct.\n",
    "\n",
    "random_forest_model = RandomForest(n_trees=100, max_samples=20000,max_depth=10,min_node_size=1, max_features=2 )\n",
    "\n",
    "random_forest_model.train(train_X, train_y)\n",
    "\n",
    "\n"
   ]
  },
  {
   "attachments": {},
   "cell_type": "markdown",
   "metadata": {},
   "source": [
    "   iv\\. Calculate the accuracy of the model using the test dataset and compare your results with the\n",
    "RandomForestClassifier from the scikit-learn library using the following parameters."
   ]
  },
  {
   "cell_type": "code",
   "execution_count": 29,
   "metadata": {
    "ExecuteTime": {
     "end_time": "2024-01-28T17:40:31.618331732Z",
     "start_time": "2024-01-28T17:40:31.506271768Z"
    }
   },
   "outputs": [
    {
     "name": "stdout",
     "output_type": "stream",
     "text": [
      "Accuracy of the model:  0.8065\n"
     ]
    }
   ],
   "source": [
    "# TODO Run predict for test data and calculate accuracy\n",
    "predictions = random_forest_model.predict(test_X)\n",
    "acc = np.sum(predictions == test_y)/len(test_y)\n",
    "\n",
    "print(\"Accuracy of the model: \", acc)"
   ]
  },
  {
   "cell_type": "code",
   "execution_count": 30,
   "metadata": {
    "ExecuteTime": {
     "end_time": "2024-01-28T17:40:33.408934231Z",
     "start_time": "2024-01-28T17:40:31.619121813Z"
    }
   },
   "outputs": [
    {
     "name": "stdout",
     "output_type": "stream",
     "text": [
      "Accuracy of the scikit-learn model:  0.807\n"
     ]
    }
   ],
   "source": [
    "# TODO: Train and predict using scikit-learn library\n",
    "scikit_random_forest_model = RandomForestClassifier(n_estimators=100, max_features=2,min_samples_leaf=1,max_depth=10)\n",
    "scikit_random_forest_model.fit(train_X,train_y)\n",
    "scikit_predictions = scikit_random_forest_model.predict(test_X)\n",
    "scikit_acc = np.sum(scikit_predictions == test_y)/len(test_y)\n",
    "\n",
    "print(\"Accuracy of the scikit-learn model: \", scikit_acc)"
   ]
  }
 ],
 "metadata": {
  "kernel_info": {
   "name": "python3"
  },
  "kernelspec": {
   "display_name": "PCDet",
   "language": "python",
   "name": "python3"
  },
  "language_info": {
   "codemirror_mode": {
    "name": "ipython",
    "version": 3
   },
   "file_extension": ".py",
   "mimetype": "text/x-python",
   "name": "python",
   "nbconvert_exporter": "python",
   "pygments_lexer": "ipython3",
   "version": "3.8.15 | packaged by conda-forge | (default, Nov 22 2022, 08:49:35) \n[GCC 10.4.0]"
  },
  "nteract": {
   "version": "0.15.0"
  },
  "vscode": {
   "interpreter": {
    "hash": "7c617624a7fd88b4018bd9e75be0d58c4afb6a334791d511af9b9a5162b5af2b"
   }
  }
 },
 "nbformat": 4,
 "nbformat_minor": 2
}
